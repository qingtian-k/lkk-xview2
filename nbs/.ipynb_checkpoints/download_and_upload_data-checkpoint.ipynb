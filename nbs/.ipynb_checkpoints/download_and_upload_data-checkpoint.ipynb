{
 "cells": [
  {
   "cell_type": "markdown",
   "metadata": {},
   "source": [
    "Notebook used to explore the Cifar Dataset and convert it to tfRecords. \n",
    "\n",
    "Later, created the script [download_and_upload_data.py](../scripts/download_and_upload_data.py)\n",
    "\n",
    "Source: [The CIFAR-10 dataset](https://www.cs.toronto.edu/~kriz/cifar.html)\n",
    "    - The CIFAR-10 dataset consists of 60000 32x32 colour images in 10 classes, with 6000 images per class. There are 50000 training images and 10000 test images."
   ]
  },
  {
   "cell_type": "markdown",
   "metadata": {},
   "source": [
    "## Adjust root directory"
   ]
  },
  {
   "cell_type": "code",
   "execution_count": 1,
   "metadata": {
    "ExecuteTime": {
     "end_time": "2019-11-29T15:00:11.314209Z",
     "start_time": "2019-11-29T15:00:11.306767Z"
    }
   },
   "outputs": [
    {
     "data": {
      "text/plain": [
       "'/home/lucaskawazoi/development/professional/lkk-gcloud-tpus/experiment_b'"
      ]
     },
     "execution_count": 1,
     "metadata": {},
     "output_type": "execute_result"
    }
   ],
   "source": [
    "import os\n",
    "os.chdir('..')\n",
    "os.getcwd()"
   ]
  },
  {
   "cell_type": "markdown",
   "metadata": {},
   "source": [
    "## Import libraries and create functions and set variables"
   ]
  },
  {
   "cell_type": "code",
   "execution_count": 2,
   "metadata": {
    "ExecuteTime": {
     "end_time": "2019-11-29T15:00:13.053828Z",
     "start_time": "2019-11-29T15:00:11.704187Z"
    }
   },
   "outputs": [],
   "source": [
    "import subprocess\n",
    "from pathlib import Path\n",
    "from scripts.utils import url2name, download_data, convert_to_tf_records\n",
    "import numpy as np\n",
    "from absl import flags, app\n",
    "import matplotlib.pyplot as plt"
   ]
  },
  {
   "cell_type": "code",
   "execution_count": 3,
   "metadata": {
    "ExecuteTime": {
     "end_time": "2019-11-29T15:00:13.057159Z",
     "start_time": "2019-11-29T15:00:13.054970Z"
    }
   },
   "outputs": [],
   "source": [
    "# flags.DEFINE_string('dest_dir', None, 'Destination for uploading the dataset')\n",
    "# FLAGS = flags.FLAGS\n",
    "\n",
    "URLS = ['https://www.cs.toronto.edu/~kriz/cifar-10-python.tar.gz']\n",
    "DATA_PATH = Path() / 'data'"
   ]
  },
  {
   "cell_type": "markdown",
   "metadata": {
    "heading_collapsed": true
   },
   "source": [
    "## Download data"
   ]
  },
  {
   "cell_type": "code",
   "execution_count": 4,
   "metadata": {
    "ExecuteTime": {
     "end_time": "2019-11-29T15:00:14.341665Z",
     "start_time": "2019-11-29T15:00:14.333588Z"
    },
    "hidden": true
   },
   "outputs": [
    {
     "name": "stdout",
     "output_type": "stream",
     "text": [
      "File already exists and was not downloaded. Path: /home/lucaskawazoi/development/professional/lkk-gcloud-tpus/experiment_b/data/cifar-10-python.tar.gz\n"
     ]
    }
   ],
   "source": [
    "for url in URLS:\n",
    "    download_data(url=url, fname=DATA_PATH/url2name(url))"
   ]
  },
  {
   "cell_type": "markdown",
   "metadata": {
    "heading_collapsed": true
   },
   "source": [
    "## Untar data"
   ]
  },
  {
   "cell_type": "code",
   "execution_count": 15,
   "metadata": {
    "ExecuteTime": {
     "end_time": "2019-11-29T15:00:44.499103Z",
     "start_time": "2019-11-29T15:00:44.496964Z"
    },
    "hidden": true
   },
   "outputs": [],
   "source": [
    "def untar_file(file, path):\n",
    "    p1 = 'tar -C {} -zxvf {}'.format(path, file)\n",
    "    subprocess.run(p1.split(' '))"
   ]
  },
  {
   "cell_type": "code",
   "execution_count": 16,
   "metadata": {
    "ExecuteTime": {
     "end_time": "2019-11-29T15:00:44.784103Z",
     "start_time": "2019-11-29T15:00:44.778416Z"
    },
    "hidden": true
   },
   "outputs": [
    {
     "data": {
      "text/plain": [
       "[PosixPath('data/cifar-10-python.tar.gz')]"
      ]
     },
     "execution_count": 16,
     "metadata": {},
     "output_type": "execute_result"
    }
   ],
   "source": [
    "# Glob all gz files\n",
    "files = list(sorted(DATA_PATH.rglob('*.gz')))\n",
    "files"
   ]
  },
  {
   "cell_type": "code",
   "execution_count": 17,
   "metadata": {
    "ExecuteTime": {
     "end_time": "2019-11-29T15:00:47.075142Z",
     "start_time": "2019-11-29T15:00:45.287176Z"
    },
    "hidden": true
   },
   "outputs": [],
   "source": [
    "for f in files:\n",
    "    untar_file(f, DATA_PATH)"
   ]
  },
  {
   "cell_type": "markdown",
   "metadata": {},
   "source": [
    "## Explore data\n",
    "The dataset contains:\n",
    "- batches.meta\n",
    "- data_batch_X\n",
    "- test_batch\n",
    "\n",
    "and other files...\n",
    "- readme.html"
   ]
  },
  {
   "cell_type": "code",
   "execution_count": 27,
   "metadata": {
    "ExecuteTime": {
     "end_time": "2019-11-29T15:02:00.620175Z",
     "start_time": "2019-11-29T15:02:00.607292Z"
    }
   },
   "outputs": [
    {
     "data": {
      "text/plain": [
       "[PosixPath('data/cifar-10-batches-py'),\n",
       " PosixPath('data/cifar-10-batches-py/batches.meta'),\n",
       " PosixPath('data/cifar-10-batches-py/data_batch_1'),\n",
       " PosixPath('data/cifar-10-batches-py/data_batch_1.tfrecords'),\n",
       " PosixPath('data/cifar-10-batches-py/data_batch_2'),\n",
       " PosixPath('data/cifar-10-batches-py/data_batch_2.tfrecords'),\n",
       " PosixPath('data/cifar-10-batches-py/data_batch_3'),\n",
       " PosixPath('data/cifar-10-batches-py/data_batch_3.tfrecords'),\n",
       " PosixPath('data/cifar-10-batches-py/data_batch_4'),\n",
       " PosixPath('data/cifar-10-batches-py/data_batch_4.tfrecords'),\n",
       " PosixPath('data/cifar-10-batches-py/data_batch_5'),\n",
       " PosixPath('data/cifar-10-batches-py/data_batch_5.tfrecords'),\n",
       " PosixPath('data/cifar-10-batches-py/readme.html'),\n",
       " PosixPath('data/cifar-10-batches-py/test_batch'),\n",
       " PosixPath('data/cifar-10-batches-py/test_batch.tfrecords'),\n",
       " PosixPath('data/cifar-10-python.tar.gz')]"
      ]
     },
     "execution_count": 27,
     "metadata": {},
     "output_type": "execute_result"
    }
   ],
   "source": [
    "# Glob all the training files\n",
    "list(sorted(DATA_PATH.rglob('*')))"
   ]
  },
  {
   "cell_type": "code",
   "execution_count": 23,
   "metadata": {
    "ExecuteTime": {
     "end_time": "2019-11-29T15:01:32.384037Z",
     "start_time": "2019-11-29T15:01:32.381626Z"
    }
   },
   "outputs": [],
   "source": [
    "def unpickle_cifar(file):\n",
    "    import pickle\n",
    "    with open(file, 'rb') as fo:\n",
    "        dict = pickle.load(fo, encoding='bytes')\n",
    "    return dict"
   ]
  },
  {
   "cell_type": "markdown",
   "metadata": {},
   "source": [
    "### meta"
   ]
  },
  {
   "cell_type": "code",
   "execution_count": 24,
   "metadata": {
    "ExecuteTime": {
     "end_time": "2019-11-29T15:01:33.758035Z",
     "start_time": "2019-11-29T15:01:33.748227Z"
    }
   },
   "outputs": [
    {
     "data": {
      "text/plain": [
       "{b'num_cases_per_batch': 10000,\n",
       " b'label_names': [b'airplane',\n",
       "  b'automobile',\n",
       "  b'bird',\n",
       "  b'cat',\n",
       "  b'deer',\n",
       "  b'dog',\n",
       "  b'frog',\n",
       "  b'horse',\n",
       "  b'ship',\n",
       "  b'truck'],\n",
       " b'num_vis': 3072}"
      ]
     },
     "execution_count": 24,
     "metadata": {},
     "output_type": "execute_result"
    }
   ],
   "source": [
    "meta = Path('data/cifar-10-batches-py/batches.meta')\n",
    "meta = unpickle_cifar(meta)\n",
    "meta"
   ]
  },
  {
   "cell_type": "code",
   "execution_count": 25,
   "metadata": {
    "ExecuteTime": {
     "end_time": "2019-11-29T15:01:34.912028Z",
     "start_time": "2019-11-29T15:01:34.908929Z"
    }
   },
   "outputs": [
    {
     "data": {
      "text/plain": [
       "[b'airplane',\n",
       " b'automobile',\n",
       " b'bird',\n",
       " b'cat',\n",
       " b'deer',\n",
       " b'dog',\n",
       " b'frog',\n",
       " b'horse',\n",
       " b'ship',\n",
       " b'truck']"
      ]
     },
     "execution_count": 25,
     "metadata": {},
     "output_type": "execute_result"
    }
   ],
   "source": [
    "label_name = meta[b'label_names']\n",
    "label_name"
   ]
  },
  {
   "cell_type": "markdown",
   "metadata": {},
   "source": [
    "### training"
   ]
  },
  {
   "cell_type": "code",
   "execution_count": 29,
   "metadata": {
    "ExecuteTime": {
     "end_time": "2019-11-29T15:02:17.812777Z",
     "start_time": "2019-11-29T15:02:17.809306Z"
    }
   },
   "outputs": [
    {
     "data": {
      "text/plain": [
       "[PosixPath('data/cifar-10-batches-py/data_batch_1'),\n",
       " PosixPath('data/cifar-10-batches-py/data_batch_2'),\n",
       " PosixPath('data/cifar-10-batches-py/data_batch_3'),\n",
       " PosixPath('data/cifar-10-batches-py/data_batch_4'),\n",
       " PosixPath('data/cifar-10-batches-py/data_batch_5')]"
      ]
     },
     "execution_count": 29,
     "metadata": {},
     "output_type": "execute_result"
    }
   ],
   "source": [
    "# Glob all the training files\n",
    "training_files = list(sorted(DATA_PATH.rglob('*data_batch_[0-9]')))\n",
    "training_files"
   ]
  },
  {
   "cell_type": "code",
   "execution_count": 32,
   "metadata": {
    "ExecuteTime": {
     "end_time": "2019-11-29T15:02:31.093939Z",
     "start_time": "2019-11-29T15:02:31.053922Z"
    }
   },
   "outputs": [
    {
     "data": {
      "text/plain": [
       "[b'batch_label', b'labels', b'data', b'filenames']"
      ]
     },
     "execution_count": 32,
     "metadata": {},
     "output_type": "execute_result"
    }
   ],
   "source": [
    "data_batch = unpickle_cifar(training_files[0])\n",
    "data_batch_keys = list(data_batch.keys())\n",
    "data_batch_keys"
   ]
  },
  {
   "cell_type": "code",
   "execution_count": 33,
   "metadata": {
    "ExecuteTime": {
     "end_time": "2019-11-29T15:02:31.230409Z",
     "start_time": "2019-11-29T15:02:31.225223Z"
    }
   },
   "outputs": [
    {
     "data": {
      "text/plain": [
       "b'training batch 1 of 5'"
      ]
     },
     "execution_count": 33,
     "metadata": {},
     "output_type": "execute_result"
    }
   ],
   "source": [
    "# batch_label\n",
    "data_batch[data_batch_keys[0]]"
   ]
  },
  {
   "cell_type": "code",
   "execution_count": 36,
   "metadata": {
    "ExecuteTime": {
     "end_time": "2019-11-29T15:02:38.363046Z",
     "start_time": "2019-11-29T15:02:38.349475Z"
    }
   },
   "outputs": [
    {
     "name": "stdout",
     "output_type": "stream",
     "text": [
      "Len:  10000\n",
      "Unique:  [0 1 2 3 4 5 6 7 8 9]\n"
     ]
    }
   ],
   "source": [
    "# labels\n",
    "labels = data_batch[data_batch_keys[1]]\n",
    "print('Len: ',len(labels))\n",
    "print('Unique: ', np.unique(np.array(labels)))"
   ]
  },
  {
   "cell_type": "code",
   "execution_count": 37,
   "metadata": {
    "ExecuteTime": {
     "end_time": "2019-11-29T15:02:49.075206Z",
     "start_time": "2019-11-29T15:02:49.071482Z"
    }
   },
   "outputs": [
    {
     "name": "stdout",
     "output_type": "stream",
     "text": [
      "Len:  (10000, 3072)\n"
     ]
    },
    {
     "data": {
      "text/plain": [
       "(10000, 32, 32, 3)"
      ]
     },
     "execution_count": 37,
     "metadata": {},
     "output_type": "execute_result"
    }
   ],
   "source": [
    "# data\n",
    "data = data_batch[data_batch_keys[2]]\n",
    "print('Len: ',data.shape)\n",
    "data = data.reshape(-1, 3, 32, 32)\n",
    "data = np.moveaxis(data, 1, -1)\n",
    "data.shape"
   ]
  },
  {
   "cell_type": "code",
   "execution_count": 53,
   "metadata": {
    "ExecuteTime": {
     "end_time": "2019-11-29T16:04:39.647648Z",
     "start_time": "2019-11-29T16:04:39.643353Z"
    }
   },
   "outputs": [
    {
     "data": {
      "text/plain": [
       "array([[[185, 175, 179],\n",
       "        [195, 186, 193],\n",
       "        [207, 200, 208],\n",
       "        ...,\n",
       "        [193, 188, 194],\n",
       "        [185, 179, 183],\n",
       "        [177, 168, 169]],\n",
       "\n",
       "       [[190, 181, 185],\n",
       "        [200, 193, 199],\n",
       "        [211, 207, 213],\n",
       "        ...,\n",
       "        [191, 187, 192],\n",
       "        [184, 178, 181],\n",
       "        [178, 169, 170]],\n",
       "\n",
       "       [[198, 191, 194],\n",
       "        [208, 204, 209],\n",
       "        [219, 216, 222],\n",
       "        ...,\n",
       "        [195, 190, 196],\n",
       "        [189, 183, 186],\n",
       "        [182, 173, 174]],\n",
       "\n",
       "       ...,\n",
       "\n",
       "       [[138, 129, 120],\n",
       "        [148, 139, 130],\n",
       "        [157, 148, 139],\n",
       "        ...,\n",
       "        [172, 160, 152],\n",
       "        [162, 150, 142],\n",
       "        [154, 141, 133]],\n",
       "\n",
       "       [[135, 125, 116],\n",
       "        [145, 135, 126],\n",
       "        [153, 144, 135],\n",
       "        ...,\n",
       "        [169, 157, 150],\n",
       "        [161, 148, 140],\n",
       "        [155, 143, 134]],\n",
       "\n",
       "       [[136, 126, 117],\n",
       "        [146, 136, 127],\n",
       "        [154, 144, 135],\n",
       "        ...,\n",
       "        [168, 157, 152],\n",
       "        [161, 150, 142],\n",
       "        [152, 142, 132]]], dtype=uint8)"
      ]
     },
     "execution_count": 53,
     "metadata": {},
     "output_type": "execute_result"
    }
   ],
   "source": [
    "img"
   ]
  },
  {
   "cell_type": "code",
   "execution_count": 42,
   "metadata": {
    "ExecuteTime": {
     "end_time": "2019-11-29T15:03:03.163186Z",
     "start_time": "2019-11-29T15:03:03.160390Z"
    }
   },
   "outputs": [
    {
     "data": {
      "text/plain": [
       "(32, 32, 3)"
      ]
     },
     "execution_count": 42,
     "metadata": {},
     "output_type": "execute_result"
    }
   ],
   "source": [
    "img.shape"
   ]
  },
  {
   "cell_type": "code",
   "execution_count": 52,
   "metadata": {
    "ExecuteTime": {
     "end_time": "2019-11-29T15:05:24.424203Z",
     "start_time": "2019-11-29T15:05:24.179272Z"
    }
   },
   "outputs": [
    {
     "name": "stdout",
     "output_type": "stream",
     "text": [
      "Min max: 4 251\n"
     ]
    },
    {
     "data": {
      "text/plain": [
       "<matplotlib.image.AxesImage at 0x7f5dc590d780>"
      ]
     },
     "execution_count": 52,
     "metadata": {},
     "output_type": "execute_result"
    },
    {
     "data": {
      "image/png": "[encoded data removed]",
      "text/plain": [
       "<Figure size 432x288 with 1 Axes>"
      ]
     },
     "metadata": {
      "needs_background": "light"
     },
     "output_type": "display_data"
    }
   ],
   "source": [
    "# Check image\n",
    "random_id = np.random.randint(len(data))\n",
    "img = data[random_id]\n",
    "print('Min max:', img.min(), img.max())\n",
    "plt.imshow(img)"
   ]
  },
  {
   "cell_type": "code",
   "execution_count": 210,
   "metadata": {
    "ExecuteTime": {
     "end_time": "2019-11-28T21:13:15.862633Z",
     "start_time": "2019-11-28T21:13:15.852541Z"
    }
   },
   "outputs": [
    {
     "name": "stdout",
     "output_type": "stream",
     "text": [
      "Len:  10000\n"
     ]
    },
    {
     "data": {
      "text/plain": [
       "[b'leptodactylus_pentadactylus_s_000004.png',\n",
       " b'camion_s_000148.png',\n",
       " b'tipper_truck_s_001250.png',\n",
       " b'american_elk_s_001521.png',\n",
       " b'station_wagon_s_000293.png']"
      ]
     },
     "execution_count": 210,
     "metadata": {},
     "output_type": "execute_result"
    }
   ],
   "source": [
    "# filenames\n",
    "filenames = data_batch[data_batch_keys[3]]\n",
    "print('Len: ',len(filenames))\n",
    "filenames[:5]"
   ]
  },
  {
   "cell_type": "markdown",
   "metadata": {},
   "source": [
    "### test\n",
    "\n",
    "Same structure as training"
   ]
  },
  {
   "cell_type": "code",
   "execution_count": 213,
   "metadata": {
    "ExecuteTime": {
     "end_time": "2019-11-28T21:13:52.999696Z",
     "start_time": "2019-11-28T21:13:52.988423Z"
    }
   },
   "outputs": [
    {
     "data": {
      "text/plain": [
       "[PosixPath('data/cifar-10-batches-py/test_batch')]"
      ]
     },
     "execution_count": 213,
     "metadata": {},
     "output_type": "execute_result"
    }
   ],
   "source": [
    "# Glob all the training files\n",
    "test_files = list(sorted(DATA_PATH.rglob('*test_batch*')))\n",
    "test_files"
   ]
  },
  {
   "cell_type": "code",
   "execution_count": 214,
   "metadata": {
    "ExecuteTime": {
     "end_time": "2019-11-28T21:14:26.472635Z",
     "start_time": "2019-11-28T21:14:26.451156Z"
    }
   },
   "outputs": [
    {
     "data": {
      "text/plain": [
       "[b'batch_label', b'labels', b'data', b'filenames']"
      ]
     },
     "execution_count": 214,
     "metadata": {},
     "output_type": "execute_result"
    }
   ],
   "source": [
    "test_batch = unpickle(test_files[0])\n",
    "test_batch_keys = list(test_batch.keys())\n",
    "test_batch_keys"
   ]
  },
  {
   "cell_type": "markdown",
   "metadata": {},
   "source": [
    "## Convert data to TF Records"
   ]
  },
  {
   "cell_type": "code",
   "execution_count": null,
   "metadata": {},
   "outputs": [],
   "source": [
    "def adjust_data(data):\n",
    "    data = data.reshape(-1, 3, 32, 32)\n",
    "    return np.moveaxis(data, 1, -1)\n",
    "\n",
    "\n",
    "# ----------------------------------------------------------------------------\n",
    "# Source: https://www.tensorflow.org/tutorials/load_data/tfrecord\n",
    "# The following functions can be used to convert a value to a type compatible\n",
    "# with tf.Example.\n",
    "# ----------------------------------------------------------------------------\n",
    "def _bytes_feature(value):\n",
    "    \"\"\"Returns a bytes_list from a string / byte.\"\"\"\n",
    "    if isinstance(value, type(tf.constant(0))):\n",
    "        # BytesList won't unpack a string from an EagerTensor.\n",
    "        value = value.numpy()\n",
    "    return tf.train.Feature(bytes_list=tf.train.BytesList(value=[value]))\n",
    "\n",
    "\n",
    "def _float_feature(value):\n",
    "    \"\"\"Returns a float_list from a float / double.\"\"\"\n",
    "    return tf.train.Feature(float_list=tf.train.FloatList(value=[value]))\n",
    "\n",
    "\n",
    "def _int64_feature(value):\n",
    "    \"\"\"Returns an int64_list from a bool / enum / int / uint.\"\"\"\n",
    "    return tf.train.Feature(int64_list=tf.train.Int64List(value=[value]))\n",
    "\n",
    "\n",
    "def to_tf_example(img, lab):\n",
    "    img_raw = img.tostring()\n",
    "    image_shape = img.shape\n",
    "    feature = {\n",
    "        'height': _int64_feature(image_shape[0]),\n",
    "        'width': _int64_feature(image_shape[1]),\n",
    "        'depth': _int64_feature(image_shape[2]),\n",
    "        'label': _int64_feature(lab),\n",
    "        'image_raw': _bytes_feature(img_raw),\n",
    "    }\n",
    "\n",
    "    return tf.train.Example(features=tf.train.Features(feature=feature))\n",
    "\n",
    "\n",
    "def convert_to_tf_records(input_file, output_file=None):\n",
    "\n",
    "    data_batch = unpickle(input_file)\n",
    "    labels = data_batch[b'labels']\n",
    "    data = adjust_data(data_batch[b'data'])\n",
    "\n",
    "    if output_file == None:\n",
    "        output_file = Path(str(input_file) + '.tfrecords')\n",
    "\n",
    "    with tf.io.TFRecordWriter(record_file) as writer:\n",
    "        for i in range(len(labels)):\n",
    "            img = data[i]\n",
    "            img_raw = img.tostring()\n",
    "            lab = labels[i]\n",
    "            tf_example = to_tf_example(img, lab)\n",
    "            writer.write(tf_example.SerializeToString())\n",
    "\n",
    "\n",
    "def sync_data_to_bucket(bucket):\n",
    "    p1 = 'mkdir -p data'\n",
    "    p2 = 'gsutil -m rsync -r data {}/data'.format(bucket)\n",
    "    subprocess.run(p1.split(' '))\n",
    "    subprocess.run(p2.split(' '))"
   ]
  },
  {
   "cell_type": "code",
   "execution_count": 335,
   "metadata": {
    "ExecuteTime": {
     "end_time": "2019-11-28T22:30:38.440534Z",
     "start_time": "2019-11-28T22:30:38.428135Z"
    }
   },
   "outputs": [
    {
     "data": {
      "text/plain": [
       "[PosixPath('data/cifar-10-batches-py/data_batch_1'),\n",
       " PosixPath('data/cifar-10-batches-py/data_batch_2'),\n",
       " PosixPath('data/cifar-10-batches-py/data_batch_3'),\n",
       " PosixPath('data/cifar-10-batches-py/data_batch_4'),\n",
       " PosixPath('data/cifar-10-batches-py/data_batch_5'),\n",
       " PosixPath('data/cifar-10-batches-py/test_batch')]"
      ]
     },
     "execution_count": 335,
     "metadata": {},
     "output_type": "execute_result"
    }
   ],
   "source": [
    "# Glob all gz files\n",
    "batches = list(sorted(DATA_PATH.rglob('*batch_[0-9]'))) + list(sorted(DATA_PATH.rglob('*test_batch')))\n",
    "batches"
   ]
  },
  {
   "cell_type": "code",
   "execution_count": null,
   "metadata": {},
   "outputs": [],
   "source": [
    "def untar_file(file, path):\n",
    "    p1 = 'tar -C {} -zxvf {}'.format(path, file)\n",
    "    subprocess.run(p1.split(' '))\n",
    "\n",
    "\n",
    "def unpickle_cifar(file):\n",
    "    import pickle\n",
    "    with open(file, 'rb') as fo:\n",
    "        dict = pickle.load(fo, encoding='bytes')\n",
    "    return dict\n",
    "\n",
    "\n",
    "def adjust_data(data):\n",
    "    data = data.reshape(-1, 3, 32, 32)\n",
    "    return np.moveaxis(data, 1, -1)\n",
    "\n",
    "\n",
    "# ----------------------------------------------------------------------------\n",
    "# Source: https://www.tensorflow.org/tutorials/load_data/tfrecord\n",
    "# The following functions can be used to convert a value to a type compatible\n",
    "# with tf.Example.\n",
    "# ----------------------------------------------------------------------------\n",
    "def _bytes_feature(value):\n",
    "    \"\"\"Returns a bytes_list from a string / byte.\"\"\"\n",
    "    if isinstance(value, type(tf.constant(0))):\n",
    "        # BytesList won't unpack a string from an EagerTensor.\n",
    "        value = value.numpy()\n",
    "    return tf.train.Feature(bytes_list=tf.train.BytesList(value=[value]))\n",
    "\n",
    "\n",
    "def _float_feature(value):\n",
    "    \"\"\"Returns a float_list from a float / double.\"\"\"\n",
    "    return tf.train.Feature(float_list=tf.train.FloatList(value=[value]))\n",
    "\n",
    "\n",
    "def _int64_feature(value):\n",
    "    \"\"\"Returns an int64_list from a bool / enum / int / uint.\"\"\"\n",
    "    return tf.train.Feature(int64_list=tf.train.Int64List(value=[value]))\n",
    "\n",
    "\n",
    "def to_tf_example(img, lab):\n",
    "    img_raw = img.tostring()\n",
    "    image_shape = img.shape\n",
    "    feature = {\n",
    "        'height': _int64_feature(image_shape[0]),\n",
    "        'width': _int64_feature(image_shape[1]),\n",
    "        'depth': _int64_feature(image_shape[2]),\n",
    "        'label': _int64_feature(lab),\n",
    "        'image_raw': _bytes_feature(img_raw),\n",
    "    }\n",
    "\n",
    "    return tf.train.Example(features=tf.train.Features(feature=feature))\n",
    "\n",
    "\n",
    "def convert_to_tf_records(input_file, output_file=None):\n",
    "\n",
    "    data_batch = unpickle(input_file)\n",
    "    labels = data_batch[b'labels']\n",
    "    data = adjust_data(data_batch[b'data'])\n",
    "\n",
    "    if output_file == None:\n",
    "        output_file = Path(str(input_file) + '.tfrecords')\n",
    "\n",
    "    with tf.io.TFRecordWriter(record_file) as writer:\n",
    "        for i in range(len(labels)):\n",
    "            img = data[i]\n",
    "            img_raw = img.tostring()\n",
    "            lab = labels[i]\n",
    "            tf_example = to_tf_example(img, lab)\n",
    "            writer.write(tf_example.SerializeToString())\n",
    "\n",
    "\n",
    "def sync_data_to_bucket(bucket):\n",
    "    p1 = 'mkdir -p data'\n",
    "    p2 = 'gsutil -m rsync -r data {}/data'.format(bucket)\n",
    "    subprocess.run(p1.split(' '))\n",
    "    subprocess.run(p2.split(' '))\n"
   ]
  },
  {
   "cell_type": "code",
   "execution_count": 313,
   "metadata": {
    "ExecuteTime": {
     "end_time": "2019-11-28T21:57:21.058044Z",
     "start_time": "2019-11-28T21:57:01.922381Z"
    }
   },
   "outputs": [],
   "source": [
    "for i in range(len(training_files)):\n",
    "    convert_to_tf_records(training_files[i])"
   ]
  },
  {
   "cell_type": "code",
   "execution_count": 284,
   "metadata": {
    "ExecuteTime": {
     "end_time": "2019-11-28T21:32:40.692576Z",
     "start_time": "2019-11-28T21:32:37.014034Z"
    }
   },
   "outputs": [],
   "source": [
    "# Write the raw image files to `images.tfrecords`.\n",
    "# First, process the two images into `tf.Example` messages.\n",
    "# Then, write to a `.tfrecords` file.\n",
    "record_file = 'data/images.tfrecords'\n",
    "with tf.io.TFRecordWriter(record_file) as writer:\n",
    "    for i in range(len(data)):\n",
    "        img = data[i]\n",
    "        img_raw = img.tostring()\n",
    "        lab = labels[i]\n",
    "        tf_example = image_example(img, lab)\n",
    "        writer.write(tf_example.SerializeToString())"
   ]
  },
  {
   "cell_type": "markdown",
   "metadata": {},
   "source": [
    "## The end"
   ]
  }
 ],
 "metadata": {
  "kernelspec": {
   "display_name": "experiment_b",
   "language": "python",
   "name": "experiment_b"
  },
  "language_info": {
   "codemirror_mode": {
    "name": "ipython",
    "version": 3
   },
   "file_extension": ".py",
   "mimetype": "text/x-python",
   "name": "python",
   "nbconvert_exporter": "python",
   "pygments_lexer": "ipython3",
   "version": "3.6.9"
  }
 },
 "nbformat": 4,
 "nbformat_minor": 2
}
