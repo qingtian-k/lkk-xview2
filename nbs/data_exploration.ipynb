{
 "cells": [
  {
   "cell_type": "code",
   "execution_count": 7,
   "metadata": {},
   "outputs": [
    {
     "data": {
      "text/plain": [
       "'/home/lucas_key_kawazoi_gmail_com'"
      ]
     },
     "execution_count": 7,
     "metadata": {},
     "output_type": "execute_result"
    }
   ],
   "source": [
    "import os\n",
    "os.chdir('/home/lucas_key_kawazoi_gmail_com')\n",
    "os.getcwd()"
   ]
  },
  {
   "cell_type": "code",
   "execution_count": 20,
   "metadata": {},
   "outputs": [],
   "source": [
    "import sys  \n",
    "sys.path.insert(0, 'lkk-xview2/scripts')"
   ]
  },
  {
   "cell_type": "code",
   "execution_count": 21,
   "metadata": {},
   "outputs": [],
   "source": [
    "import utils"
   ]
  },
  {
   "cell_type": "code",
   "execution_count": 1,
   "metadata": {},
   "outputs": [],
   "source": [
    "from pathlib import Path"
   ]
  },
  {
   "cell_type": "code",
   "execution_count": 19,
   "metadata": {},
   "outputs": [
    {
     "data": {
      "text/plain": [
       "[PosixPath('lkk-xview2/.git'),\n",
       " PosixPath('lkk-xview2/.gitignore'),\n",
       " PosixPath('lkk-xview2/Makefile'),\n",
       " PosixPath('lkk-xview2/README.md'),\n",
       " PosixPath('lkk-xview2/jupyter_notebook_config.json'),\n",
       " PosixPath('lkk-xview2/jupyter_notebook_config.py'),\n",
       " PosixPath('lkk-xview2/nbs'),\n",
       " PosixPath('lkk-xview2/requirements.txt'),\n",
       " PosixPath('lkk-xview2/scripts')]"
      ]
     },
     "execution_count": 19,
     "metadata": {},
     "output_type": "execute_result"
    }
   ],
   "source": [
    "PROJ_PATH = Path() / 'lkk-xview2'\n",
    "sorted(PROJ_PATH.iterdir())"
   ]
  },
  {
   "cell_type": "code",
   "execution_count": 17,
   "metadata": {},
   "outputs": [
    {
     "data": {
      "text/plain": [
       "[PosixPath('data/xBD/guatemala-volcano'),\n",
       " PosixPath('data/xBD/hurricane-florence'),\n",
       " PosixPath('data/xBD/hurricane-harvey'),\n",
       " PosixPath('data/xBD/hurricane-matthew'),\n",
       " PosixPath('data/xBD/hurricane-michael'),\n",
       " PosixPath('data/xBD/mexico-earthquake'),\n",
       " PosixPath('data/xBD/midwest-flooding'),\n",
       " PosixPath('data/xBD/palu-tsunami'),\n",
       " PosixPath('data/xBD/santa-rosa-wildfire'),\n",
       " PosixPath('data/xBD/socal-fire'),\n",
       " PosixPath('data/xBD/spacenet_gt')]"
      ]
     },
     "execution_count": 17,
     "metadata": {},
     "output_type": "execute_result"
    }
   ],
   "source": [
    "DATA_PATH = Path() / 'data/xBD'\n",
    "sorted(DATA_PATH.iterdir())"
   ]
  },
  {
   "cell_type": "markdown",
   "metadata": {},
   "source": [
    "## First disaster: guatemala-volcano"
   ]
  },
  {
   "cell_type": "code",
   "execution_count": 14,
   "metadata": {},
   "outputs": [
    {
     "data": {
      "text/plain": [
       "[PosixPath('data/xBD/guatemala-volcano/images'),\n",
       " PosixPath('data/xBD/guatemala-volcano/labels'),\n",
       " PosixPath('data/xBD/guatemala-volcano/masks')]"
      ]
     },
     "execution_count": 14,
     "metadata": {},
     "output_type": "execute_result"
    }
   ],
   "source": [
    "sorted((DATA_PATH / 'guatemala-volcano').iterdir())"
   ]
  },
  {
   "cell_type": "code",
   "execution_count": 16,
   "metadata": {},
   "outputs": [
    {
     "data": {
      "text/plain": [
       "[PosixPath('data/xBD/guatemala-volcano/images/guatemala-volcano_00000000_post_disaster.png'),\n",
       " PosixPath('data/xBD/guatemala-volcano/images/guatemala-volcano_00000000_pre_disaster.png'),\n",
       " PosixPath('data/xBD/guatemala-volcano/images/guatemala-volcano_00000001_post_disaster.png'),\n",
       " PosixPath('data/xBD/guatemala-volcano/images/guatemala-volcano_00000001_pre_disaster.png'),\n",
       " PosixPath('data/xBD/guatemala-volcano/images/guatemala-volcano_00000002_post_disaster.png'),\n",
       " PosixPath('data/xBD/guatemala-volcano/images/guatemala-volcano_00000002_pre_disaster.png'),\n",
       " PosixPath('data/xBD/guatemala-volcano/images/guatemala-volcano_00000006_post_disaster.png'),\n",
       " PosixPath('data/xBD/guatemala-volcano/images/guatemala-volcano_00000006_pre_disaster.png'),\n",
       " PosixPath('data/xBD/guatemala-volcano/images/guatemala-volcano_00000007_post_disaster.png'),\n",
       " PosixPath('data/xBD/guatemala-volcano/images/guatemala-volcano_00000007_pre_disaster.png'),\n",
       " PosixPath('data/xBD/guatemala-volcano/images/guatemala-volcano_00000008_post_disaster.png'),\n",
       " PosixPath('data/xBD/guatemala-volcano/images/guatemala-volcano_00000008_pre_disaster.png'),\n",
       " PosixPath('data/xBD/guatemala-volcano/images/guatemala-volcano_00000010_post_disaster.png'),\n",
       " PosixPath('data/xBD/guatemala-volcano/images/guatemala-volcano_00000010_pre_disaster.png'),\n",
       " PosixPath('data/xBD/guatemala-volcano/images/guatemala-volcano_00000013_post_disaster.png'),\n",
       " PosixPath('data/xBD/guatemala-volcano/images/guatemala-volcano_00000013_pre_disaster.png'),\n",
       " PosixPath('data/xBD/guatemala-volcano/images/guatemala-volcano_00000015_post_disaster.png'),\n",
       " PosixPath('data/xBD/guatemala-volcano/images/guatemala-volcano_00000015_pre_disaster.png'),\n",
       " PosixPath('data/xBD/guatemala-volcano/images/guatemala-volcano_00000016_post_disaster.png'),\n",
       " PosixPath('data/xBD/guatemala-volcano/images/guatemala-volcano_00000016_pre_disaster.png'),\n",
       " PosixPath('data/xBD/guatemala-volcano/images/guatemala-volcano_00000017_post_disaster.png'),\n",
       " PosixPath('data/xBD/guatemala-volcano/images/guatemala-volcano_00000017_pre_disaster.png'),\n",
       " PosixPath('data/xBD/guatemala-volcano/images/guatemala-volcano_00000018_post_disaster.png'),\n",
       " PosixPath('data/xBD/guatemala-volcano/images/guatemala-volcano_00000018_pre_disaster.png'),\n",
       " PosixPath('data/xBD/guatemala-volcano/images/guatemala-volcano_00000019_post_disaster.png'),\n",
       " PosixPath('data/xBD/guatemala-volcano/images/guatemala-volcano_00000019_pre_disaster.png'),\n",
       " PosixPath('data/xBD/guatemala-volcano/images/guatemala-volcano_00000023_post_disaster.png'),\n",
       " PosixPath('data/xBD/guatemala-volcano/images/guatemala-volcano_00000023_pre_disaster.png'),\n",
       " PosixPath('data/xBD/guatemala-volcano/images/guatemala-volcano_00000024_post_disaster.png'),\n",
       " PosixPath('data/xBD/guatemala-volcano/images/guatemala-volcano_00000024_pre_disaster.png'),\n",
       " PosixPath('data/xBD/guatemala-volcano/images/guatemala-volcano_00000025_post_disaster.png'),\n",
       " PosixPath('data/xBD/guatemala-volcano/images/guatemala-volcano_00000025_pre_disaster.png'),\n",
       " PosixPath('data/xBD/guatemala-volcano/images/guatemala-volcano_00000026_post_disaster.png'),\n",
       " PosixPath('data/xBD/guatemala-volcano/images/guatemala-volcano_00000026_pre_disaster.png'),\n",
       " PosixPath('data/xBD/guatemala-volcano/images/guatemala-volcano_00000027_post_disaster.png'),\n",
       " PosixPath('data/xBD/guatemala-volcano/images/guatemala-volcano_00000027_pre_disaster.png')]"
      ]
     },
     "execution_count": 16,
     "metadata": {},
     "output_type": "execute_result"
    }
   ],
   "source": [
    "sorted((DATA_PATH / 'guatemala-volcano/images').iterdir())"
   ]
  },
  {
   "cell_type": "markdown",
   "metadata": {},
   "source": [
    "## Spacenet"
   ]
  }
 ],
 "metadata": {
  "kernelspec": {
   "display_name": "py36",
   "language": "python",
   "name": "py36"
  },
  "language_info": {
   "codemirror_mode": {
    "name": "ipython",
    "version": 3
   },
   "file_extension": ".py",
   "mimetype": "text/x-python",
   "name": "python",
   "nbconvert_exporter": "python",
   "pygments_lexer": "ipython3",
   "version": "3.6.9"
  }
 },
 "nbformat": 4,
 "nbformat_minor": 2
}
