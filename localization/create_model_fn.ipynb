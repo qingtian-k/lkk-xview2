{
  "nbformat": 4,
  "nbformat_minor": 0,
  "metadata": {
    "colab": {
      "name": "create_model_fn.ipynb",
      "provenance": [],
      "include_colab_link": true
    },
    "kernelspec": {
      "name": "python3",
      "display_name": "Python 3"
    }
  },
  "cells": [
    {
      "cell_type": "markdown",
      "metadata": {
        "id": "view-in-github",
        "colab_type": "text"
      },
      "source": [
        "<a href=\"https://colab.research.google.com/github/lucaskawazoi/lkk-xview2/blob/master/localization/create_model_fn.ipynb\" target=\"_parent\"><img src=\"https://colab.research.google.com/assets/colab-badge.svg\" alt=\"Open In Colab\"/></a>"
      ]
    },
    {
      "cell_type": "markdown",
      "metadata": {
        "id": "MpeucSwWL2gL",
        "colab_type": "text"
      },
      "source": [
        "References:\n",
        "- https://cloud.google.com/tpu/docs/tutorials/mnist#download_and_convert_the_mnist_data\n",
        "- /home/lucaskawazoi/development/professional/temp/tpu/models/official/mnist\n",
        "- /home/lucaskawazoi/development/professional/lkk-xview2/localization\n",
        "- Continuation of lkk-xview2/localization/create_tfrecords.ipynb"
      ]
    },
    {
      "cell_type": "markdown",
      "metadata": {
        "id": "WN6i2b0sL6oZ",
        "colab_type": "text"
      },
      "source": [
        "# Import libraries"
      ]
    },
    {
      "cell_type": "code",
      "metadata": {
        "id": "IN08dCNqLl2d",
        "colab_type": "code",
        "colab": {
          "base_uri": "https://localhost:8080/",
          "height": 34
        },
        "outputId": "8ef692c2-559b-4ff5-a974-af6e73494c2a"
      },
      "source": [
        "# Import libraries\n",
        "import os\n",
        "from pathlib import Path\n",
        "\n",
        "import numpy as np \n",
        "import math\n",
        "import random\n",
        "\n",
        "import cv2\n",
        "from google.colab.patches import cv2_imshow\n",
        "\n",
        "import tensorflow as tf\n",
        "print('TF version:', tf.__version__)"
      ],
      "execution_count": 1,
      "outputs": [
        {
          "output_type": "stream",
          "text": [
            "TF version: 1.15.0\n"
          ],
          "name": "stdout"
        }
      ]
    },
    {
      "cell_type": "markdown",
      "metadata": {
        "id": "IkGCsR2OL7sj",
        "colab_type": "text"
      },
      "source": [
        "# Authenticate and set variables"
      ]
    },
    {
      "cell_type": "code",
      "metadata": {
        "id": "je-045BWL77L",
        "colab_type": "code",
        "colab": {
          "base_uri": "https://localhost:8080/",
          "height": 275
        },
        "outputId": "0aadfeea-9e26-420a-c50a-282c121194ec"
      },
      "source": [
        "# Authenticate and config credentials\n",
        "! gcloud auth login\n",
        "! gcloud config set project lkk-project-1"
      ],
      "execution_count": 4,
      "outputs": [
        {
          "output_type": "stream",
          "text": [
            "Go to the following link in your browser:\n",
            "\n",
            "    https://accounts.google.com/o/oauth2/auth?code_challenge=dlm6KiOXdb8YkWvaocA7l-c-F1rQX5HtfH_DZwP_NSk&prompt=select_account&code_challenge_method=S256&access_type=offline&redirect_uri=urn%3Aietf%3Awg%3Aoauth%3A2.0%3Aoob&response_type=code&client_id=32555940559.apps.googleusercontent.com&scope=https%3A%2F%2Fwww.googleapis.com%2Fauth%2Fuserinfo.email+https%3A%2F%2Fwww.googleapis.com%2Fauth%2Fcloud-platform+https%3A%2F%2Fwww.googleapis.com%2Fauth%2Fappengine.admin+https%3A%2F%2Fwww.googleapis.com%2Fauth%2Fcompute+https%3A%2F%2Fwww.googleapis.com%2Fauth%2Faccounts.reauth\n",
            "\n",
            "\n",
            "Enter verification code: 4/uAFXqGuK9bQqt0ScaLuJKAL2JC2_i9fNb5U87vHgvzqhlaJwTNlaP_E\n",
            "\u001b[1;33mWARNING:\u001b[0m `gcloud auth login` no longer writes application default credentials.\n",
            "If you need to use ADC, see:\n",
            "  gcloud auth application-default --help\n",
            "\n",
            "You are now logged in as [lucas.key.kawazoi@gmail.com].\n",
            "Your current project is [None].  You can change this setting by running:\n",
            "  $ gcloud config set project PROJECT_ID\n",
            "Updated property [core/project].\n"
          ],
          "name": "stdout"
        }
      ]
    },
    {
      "cell_type": "code",
      "metadata": {
        "id": "z0Ipyj-jMb-T",
        "colab_type": "code",
        "colab": {}
      },
      "source": [
        "# Set folder paths\n",
        "PATH = Path()\n",
        "images_folder = PATH / 'images'\n",
        "images_folder.mkdir(exist_ok=True)\n",
        "\n",
        "grayscale_labels_folder = PATH / 'grayscale_labels'\n",
        "grayscale_labels_folder.mkdir(exist_ok=True)\n",
        "\n",
        "dataSet_folder = PATH / 'dataSet'\n",
        "dataSet_folder.mkdir(exist_ok=True)\n",
        "\n",
        "tfrecords_folder = PATH / 'tfrecords'\n",
        "tfrecords_folder.mkdir(exist_ok=True)\n",
        "\n",
        "model_dir = Path()\n",
        "\n",
        "dataset = 'train'"
      ],
      "execution_count": 0,
      "outputs": []
    },
    {
      "cell_type": "markdown",
      "metadata": {
        "id": "TVpN5PpiMp6L",
        "colab_type": "text"
      },
      "source": [
        "# Create dataset_fn"
      ]
    },
    {
      "cell_type": "code",
      "metadata": {
        "id": "9BvNgh1cMiuf",
        "colab_type": "code",
        "colab": {
          "base_uri": "https://localhost:8080/",
          "height": 221
        },
        "outputId": "e83d8eca-2d8f-43e4-8673-5ce18853d7ba"
      },
      "source": [
        "# Download data\n",
        "! gsutil -m rsync -r gs://lkk-xview2/xBD/spacenet_gt/tfrecords {tfrecords_folder}"
      ],
      "execution_count": 6,
      "outputs": [
        {
          "output_type": "stream",
          "text": [
            "Building synchronization state...\n",
            "Starting synchronization...\n",
            "Copying gs://lkk-xview2/xBD/spacenet_gt/tfrecords/train-00000-of-00004.tfrecord...\n",
            "Copying gs://lkk-xview2/xBD/spacenet_gt/tfrecords/train-00002-of-00004.tfrecord...\n",
            "Copying gs://lkk-xview2/xBD/spacenet_gt/tfrecords/val-00002-of-00004.tfrecord...\n",
            "Copying gs://lkk-xview2/xBD/spacenet_gt/tfrecords/train-00003-of-00004.tfrecord...\n",
            "Copying gs://lkk-xview2/xBD/spacenet_gt/tfrecords/val-00003-of-00004.tfrecord...\n",
            "Copying gs://lkk-xview2/xBD/spacenet_gt/tfrecords/train-00001-of-00004.tfrecord...\n",
            "Copying gs://lkk-xview2/xBD/spacenet_gt/tfrecords/val-00000-of-00004.tfrecord...\n",
            "Copying gs://lkk-xview2/xBD/spacenet_gt/tfrecords/val-00001-of-00004.tfrecord...\n",
            "/ [8/8 files][  3.8 GiB/  3.8 GiB] 100% Done  28.0 MiB/s ETA 00:00:00           \n",
            "Operation completed over 8 objects/3.8 GiB.                                      \n"
          ],
          "name": "stdout"
        }
      ]
    },
    {
      "cell_type": "code",
      "metadata": {
        "id": "xXKcHQ5JMoAE",
        "colab_type": "code",
        "colab": {}
      },
      "source": [
        "# Get desired filenames\n",
        "tfrecords_filenames = sorted(tfrecords_folder.rglob('**/{}-*.tfrecord'.format(dataset)))\n",
        "tfrecords_filenames = [str(f) for f in tfrecords_filenames]\n",
        "\n",
        "def create_dataset(tfrecords_filenames):\n",
        "  feature_description = {\n",
        "    'image_encoded': tf.io.FixedLenFeature([], tf.string),\n",
        "    'image_filename': tf.io.FixedLenFeature([], tf.string),\n",
        "    'height': tf.io.FixedLenFeature([], tf.int64),\n",
        "    'width': tf.io.FixedLenFeature([], tf.int64),\n",
        "    'depth': tf.io.FixedLenFeature([], tf.int64),\n",
        "    'label_encoded': tf.io.FixedLenFeature([], tf.string),\n",
        "    'label_filename': tf.io.FixedLenFeature([], tf.string),\n",
        "    }\n",
        "  def decode_record(record):\n",
        "    example = tf.io.parse_single_example(record, feature_description)\n",
        "    \n",
        "    # image_nparray = np.frombuffer(example['image_encoded'], np.uint8)\n",
        "    # image = cv2.imdecode(image_nparray, cv2.IMREAD_COLOR)\n",
        "    image = tf.decode_raw(example['image_encoded'], tf.uint8)\n",
        "    image = tf.cast(image, tf.float32)\n",
        "    image = tf.reshape(image, [1024, 1024, 3])\n",
        "\n",
        "    # label_nparray = np.frombuffer(example['label_encoded'], np.uint8)\n",
        "    # label = cv2.imdecode(label_nparray, cv2.IMREAD_COLOR)\n",
        "    label = tf.decode_raw(example['label_encoded'], tf.uint8)\n",
        "    label = tf.cast(label, tf.float32)\n",
        "    label = tf.reshape(label, [1024, 1024, 1])\n",
        "    return image, label\n",
        "\n",
        "  return tf.data.TFRecordDataset(tfrecords_filenames).map(decode_record)\n",
        "\n",
        "def train_input_fn(batch_size, tfrecords_filenames):\n",
        "  \"\"\"train_input_fn defines the input pipeline used for training.\"\"\"\n",
        "  # batch_size = params['batch_size']\n",
        "  # tfrecords_filenames = params['tfrecords_folder'] / \"train.tfrecords\")\n",
        "\n",
        "  return create_dataset(tfrecords_filenames).cache().repeat().shuffle(\n",
        "      buffer_size=4000).batch(batch_size, drop_remainder=True)"
      ],
      "execution_count": 0,
      "outputs": []
    },
    {
      "cell_type": "markdown",
      "metadata": {
        "id": "vcYKNutGNQUY",
        "colab_type": "text"
      },
      "source": [
        "# Connect to TPU"
      ]
    },
    {
      "cell_type": "code",
      "metadata": {
        "id": "gcMqeJIxM_8r",
        "colab_type": "code",
        "colab": {}
      },
      "source": [
        "# TPUClusterResolver\n",
        "tpu_cluster_resolver = tf.distribute.cluster_resolver.TPUClusterResolver()"
      ],
      "execution_count": 0,
      "outputs": []
    },
    {
      "cell_type": "code",
      "metadata": {
        "id": "ATG-eMUnOKf5",
        "colab_type": "code",
        "colab": {}
      },
      "source": [
        "# tpu.RunConfig\n",
        "iterations = 50\n",
        "num_shards = 8\n",
        "run_config = tf.estimator.tpu.RunConfig(\n",
        "      cluster=tpu_cluster_resolver,\n",
        "      model_dir=model_dir,\n",
        "      session_config=tf.ConfigProto(\n",
        "          allow_soft_placement=True, log_device_placement=True),\n",
        "      tpu_config=tf.estimator.tpu.TPUConfig(iterations, num_shards),\n",
        "  )"
      ],
      "execution_count": 0,
      "outputs": []
    },
    {
      "cell_type": "markdown",
      "metadata": {
        "id": "BSF0gGKoOxYz",
        "colab_type": "text"
      },
      "source": [
        "# model_fn"
      ]
    },
    {
      "cell_type": "code",
      "metadata": {
        "id": "AwnigpVLQdAW",
        "colab_type": "code",
        "colab": {}
      },
      "source": [
        "def _unet_model_fn(image, labels, mode, params):\n",
        "  with tf.variable_scope('base', reuse=tf.AUTO_REUSE):\n",
        "    logits = unet3d_base(\n",
        "          image,\n",
        "          pool_size=(2, 2, 2),\n",
        "          n_labels=params['num_classes'],\n",
        "          deconvolution=params['deconvolution'],\n",
        "          depth=params['depth'],\n",
        "          n_base_filters=params['num_base_filters'],\n",
        "          batch_normalization=params['use_batch_norm'],\n",
        "          data_format=params['data_format'])"
      ],
      "execution_count": 0,
      "outputs": []
    },
    {
      "cell_type": "code",
      "metadata": {
        "id": "wZn1yGoQQX-B",
        "colab_type": "code",
        "colab": {}
      },
      "source": [
        "def unet_model_fn(features, labels, mode, params):\n",
        "  \"\"\"UNet model.\"\"\"\n",
        "  with tf.variable_scope('unet', reuse=tf.AUTO_REUSE):\n",
        "    return _unet_model_fn(features, labels, mode, params)"
      ],
      "execution_count": 0,
      "outputs": []
    },
    {
      "cell_type": "code",
      "metadata": {
        "id": "sF8JA-mkOxOZ",
        "colab_type": "code",
        "colab": {}
      },
      "source": [
        "def model_fn(features, labels, mode, params):\n",
        "\n",
        "  del params\n",
        "\n",
        "  # Normalize from [0, 255] to [0.0, 1.0]\n",
        "  image = features / 255.\n",
        "\n",
        "  y = tf.layers.Conv2D(filters=32, kernel_size=5, padding='same', activation='relu')(image)\n",
        "  y = tf.layers.MaxPooling2D(pool_size=(2, 2), strides=(2, 2), padding=\"same\")(y)\n",
        "  y = tf.layers.Conv2D(filters=32, kernel_size=5, padding=\"same\", activation=\"relu\")(y)\n",
        "  y = tf.layers.MaxPooling2D(pool_size=(2, 2), strides=(2, 2), padding=\"same\")(y)\n",
        "  y = tf.layers.Flatten()(y)\n",
        "  y = tf.layers.Dense(1024, activation=\"relu\")(y)\n",
        "  y = tf.layers.Dropout(0.4)(y, training=(mode == tf.estimator.ModeKeys.TRAIN))\n",
        "\n",
        "  logits = tf.layers.Dense(10)(y)"
      ],
      "execution_count": 0,
      "outputs": []
    },
    {
      "cell_type": "markdown",
      "metadata": {
        "id": "E91LcCUROsrK",
        "colab_type": "text"
      },
      "source": [
        "# tpu.TPUEstimator"
      ]
    },
    {
      "cell_type": "code",
      "metadata": {
        "id": "h8ZDCN2gOsyv",
        "colab_type": "code",
        "colab": {}
      },
      "source": [
        "estimator = tf.estimator.tpu.TPUEstimator(\n",
        "      model_fn=model_fn,\n",
        "      use_tpu=FLAGS.use_tpu,\n",
        "      train_batch_size=FLAGS.batch_size,\n",
        "      eval_batch_size=FLAGS.batch_size,\n",
        "      predict_batch_size=FLAGS.batch_size,\n",
        "      params={\"data_dir\": FLAGS.data_dir},\n",
        "      config=run_config)"
      ],
      "execution_count": 0,
      "outputs": []
    },
    {
      "cell_type": "markdown",
      "metadata": {
        "id": "YS8435syL8Cq",
        "colab_type": "text"
      },
      "source": [
        "# The end"
      ]
    }
  ]
}